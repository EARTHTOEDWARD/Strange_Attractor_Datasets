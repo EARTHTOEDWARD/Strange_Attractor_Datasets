{
 "cells": [
  {
   "cell_type": "markdown",
   "metadata": {},
   "source": [
    "# Strange Attractor Dataset Generation Demo\n",
    "\n",
    "This notebook demonstrates how to create chaotic datasets following the \"Idiot's Guide\" methodology."
   ]
  },
  {
   "cell_type": "code",
   "execution_count": null,
   "metadata": {},
   "outputs": [],
   "source": [
    "import sys\n",
    "import os\n",
    "sys.path.append('..')\n",
    "\n",
    "import numpy as np\n",
    "import pandas as pd\n",
    "import matplotlib.pyplot as plt\n",
    "from strange_attractor_generator import LorenzGenerator, TimeDelayEmbedding, DatasetManager"
   ]
  },
  {
   "cell_type": "markdown",
   "metadata": {},
   "source": [
    "## Part 1: Lorenz System Dataset"
   ]
  },
  {
   "cell_type": "code",
   "execution_count": null,
   "metadata": {},
   "outputs": [],
   "source": [
    "# Create Lorenz generator\n",
    "lorenz = LorenzGenerator()\n",
    "\n",
    "# Generate single trajectory\n",
    "data = lorenz.generate_single_trajectory()\n",
    "print(f\"Generated {len(data)} points\")\n",
    "data.head()"
   ]
  },
  {
   "cell_type": "code",
   "execution_count": null,
   "metadata": {},
   "outputs": [],
   "source": [
    "# Plot the famous butterfly attractor\n",
    "fig = plt.figure(figsize=(12, 4))\n",
    "\n",
    "# 2D projections\n",
    "ax1 = fig.add_subplot(131)\n",
    "ax1.plot(data['x'], data['z'], linewidth=0.5)\n",
    "ax1.set_xlabel('x')\n",
    "ax1.set_ylabel('z')\n",
    "ax1.set_title('x-z projection')\n",
    "\n",
    "ax2 = fig.add_subplot(132)\n",
    "ax2.plot(data['x'], data['y'], linewidth=0.5)\n",
    "ax2.set_xlabel('x')\n",
    "ax2.set_ylabel('y')\n",
    "ax2.set_title('x-y projection')\n",
    "\n",
    "# 3D plot\n",
    "ax3 = fig.add_subplot(133, projection='3d')\n",
    "ax3.plot(data['x'], data['y'], data['z'], linewidth=0.5)\n",
    "ax3.set_xlabel('x')\n",
    "ax3.set_ylabel('y')\n",
    "ax3.set_zlabel('z')\n",
    "ax3.set_title('3D Attractor')\n",
    "\n",
    "plt.tight_layout()\n",
    "plt.show()"
   ]
  },
  {
   "cell_type": "markdown",
   "metadata": {},
   "source": [
    "## Part 2: Parameter Sweep Dataset"
   ]
  },
  {
   "cell_type": "code",
   "execution_count": null,
   "metadata": {},
   "outputs": [],
   "source": [
    "# Generate parameter sweep - varying rho from stable to chaotic\n",
    "rho_values = np.linspace(10, 40, 8)  # Fewer values for demo\n",
    "sweep_data = lorenz.generate_parameter_sweep('rho', rho_values, n_points=2000)\n",
    "\n",
    "print(f\"Generated {len(sweep_data)} total points\")\n",
    "print(f\"Parameter values: {rho_values}\")\n",
    "sweep_data.groupby('rho').size()"
   ]
  },
  {
   "cell_type": "code",
   "execution_count": null,
   "metadata": {},
   "outputs": [],
   "source": [
    "# Plot multiple attractors for different rho values\n",
    "fig, axes = plt.subplots(2, 4, figsize=(16, 8))\n",
    "axes = axes.flatten()\n",
    "\n",
    "for i, rho in enumerate(rho_values):\n",
    "    subset = sweep_data[sweep_data['rho'] == rho]\n",
    "    axes[i].plot(subset['x'], subset['z'], linewidth=0.5)\n",
    "    axes[i].set_title(f'ρ = {rho:.1f}')\n",
    "    axes[i].set_xlabel('x')\n",
    "    axes[i].set_ylabel('z')\n",
    "\n",
    "plt.suptitle('Lorenz Attractor for Different ρ Values')\n",
    "plt.tight_layout()\n",
    "plt.show()"
   ]
  },
  {
   "cell_type": "markdown",
   "metadata": {},
   "source": [
    "## Part 3: Time-Delay Embedding"
   ]
  },
  {
   "cell_type": "code",
   "execution_count": null,
   "metadata": {},
   "outputs": [],
   "source": [
    "# Create sample signal (noisy sine wave)\n",
    "embedding = TimeDelayEmbedding()\n",
    "t, signal = embedding.create_sample_signal(duration=5.0, frequency=3.0)\n",
    "\n",
    "# Plot original signal\n",
    "plt.figure(figsize=(10, 3))\n",
    "plt.plot(t, signal)\n",
    "plt.xlabel('Time (s)')\n",
    "plt.ylabel('Amplitude')\n",
    "plt.title('Original 1D Signal')\n",
    "plt.show()"
   ]
  },
  {
   "cell_type": "code",
   "execution_count": null,
   "metadata": {},
   "outputs": [],
   "source": [
    "# Perform time-delay embedding\n",
    "tau = 25  # time delay\n",
    "m = 3     # embedding dimension\n",
    "\n",
    "embedded = embedding.embed_signal(signal, tau, m)\n",
    "print(f\"Original signal length: {len(signal)}\")\n",
    "print(f\"Embedded coordinates shape: {embedded.shape}\")"
   ]
  },
  {
   "cell_type": "code",
   "execution_count": null,
   "metadata": {},
   "outputs": [],
   "source": [
    "# Plot embedded attractor\n",
    "fig = plt.figure(figsize=(12, 4))\n",
    "\n",
    "# 2D projection\n",
    "ax1 = fig.add_subplot(121)\n",
    "ax1.scatter(embedded[:, 0], embedded[:, 1], s=1, alpha=0.7)\n",
    "ax1.set_xlabel('x(t)')\n",
    "ax1.set_ylabel('x(t+τ)')\n",
    "ax1.set_title('2D Embedded Attractor')\n",
    "\n",
    "# 3D plot\n",
    "ax2 = fig.add_subplot(122, projection='3d')\n",
    "ax2.scatter(embedded[:, 0], embedded[:, 1], embedded[:, 2], s=1, alpha=0.7)\n",
    "ax2.set_xlabel('x(t)')\n",
    "ax2.set_ylabel('x(t+τ)')\n",
    "ax2.set_zlabel('x(t+2τ)')\n",
    "ax2.set_title('3D Embedded Attractor')\n",
    "\n",
    "plt.tight_layout()\n",
    "plt.show()"
   ]
  },
  {
   "cell_type": "markdown",
   "metadata": {},
   "source": [
    "## Saving Datasets"
   ]
  },
  {
   "cell_type": "code",
   "execution_count": null,
   "metadata": {},
   "outputs": [],
   "source": [
    "# Initialize dataset manager\n",
    "dataset_mgr = DatasetManager()\n",
    "\n",
    "# Save datasets with metadata\n",
    "dataset_mgr.save_dataset(\n",
    "    data,\n",
    "    \"demo_lorenz_single\",\n",
    "    {\n",
    "        \"description\": \"Demo Lorenz trajectory\",\n",
    "        \"parameters\": {\"sigma\": 10.0, \"rho\": 28.0, \"beta\": 8.0/3.0},\n",
    "        \"n_points\": len(data)\n",
    "    }\n",
    ")\n",
    "\n",
    "# Convert embedded coordinates to DataFrame\n",
    "embedded_df = pd.DataFrame(embedded, columns=['x1', 'x2', 'x3'])\n",
    "dataset_mgr.save_dataset(\n",
    "    embedded_df,\n",
    "    \"demo_embedded_signal\",\n",
    "    {\n",
    "        \"description\": \"Demo embedded sine wave\",\n",
    "        \"embedding_params\": {\"tau\": tau, \"dimension\": m},\n",
    "        \"n_points\": len(embedded_df)\n",
    "    }\n",
    ")\n",
    "\n",
    "print(\"Demo datasets saved!\")"
   ]
  }
 ],
 "metadata": {
  "kernelspec": {
   "display_name": "Python 3",
   "language": "python",
   "name": "python3"
  },
  "language_info": {
   "codemirror_mode": {
    "name": "ipython",
    "version": 3
   },
   "file_extension": ".py",
   "mimetype": "text/x-python",
   "name": "python",
   "nbconvert_exporter": "python",
   "pygments_lexer": "ipython3",
   "version": "3.9.0"
  }
 },
 "nbformat": 4,
 "nbformat_minor": 4
}